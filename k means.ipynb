{
 "cells": [
  {
   "cell_type": "code",
   "execution_count": 1,
   "metadata": {},
   "outputs": [],
   "source": [
    "# csv dosyalarını okumak için \n",
    "#pandası import ettik\n",
    "import pandas as pd"
   ]
  },
  {
   "cell_type": "code",
   "execution_count": 2,
   "metadata": {},
   "outputs": [],
   "source": [
    "# csv dosyamızı okuduk.\n",
    "data = pd.read_csv('Iris.csv')"
   ]
  },
  {
   "cell_type": "code",
   "execution_count": 3,
   "metadata": {},
   "outputs": [],
   "source": [
    "# Veriler düzenledik\n",
    "v = data.iloc[:,1:-1].values"
   ]
  },
  {
   "cell_type": "code",
   "execution_count": 4,
   "metadata": {},
   "outputs": [],
   "source": [
    "# KMeans sınıfını import ettik\n",
    "from sklearn.cluster import KMeans"
   ]
  },
  {
   "cell_type": "code",
   "execution_count": 12,
   "metadata": {},
   "outputs": [],
   "source": [
    "# KMeans sınıfından bir nesne ürettik\n",
    "# n_clusters = Ayıracağımız küme sayısı\n",
    "# init = Başlangıç noktalarının belirlenmesi\n",
    "km = KMeans(n_clusters=3, init='k-means++',random_state=0)\n"
   ]
  },
  {
   "cell_type": "code",
   "execution_count": 6,
   "metadata": {},
   "outputs": [
    {
     "data": {
      "text/plain": [
       "KMeans(algorithm='auto', copy_x=True, init='k-means++', max_iter=300,\n",
       "       n_clusters=4, n_init=10, n_jobs=None, precompute_distances='auto',\n",
       "       random_state=0, tol=0.0001, verbose=0)"
      ]
     },
     "execution_count": 6,
     "metadata": {},
     "output_type": "execute_result"
    }
   ],
   "source": [
    "# Kümeleme işlemi yaptık\n",
    "\n",
    "km.fit(v)"
   ]
  },
  {
   "cell_type": "code",
   "execution_count": 7,
   "metadata": {},
   "outputs": [],
   "source": [
    "# Tahmin işlemi yapıyoruz.\n",
    "predict = km.predict(v)"
   ]
  },
  {
   "cell_type": "code",
   "execution_count": 10,
   "metadata": {},
   "outputs": [
    {
     "name": "stdout",
     "output_type": "stream",
     "text": [
      "[[6.9125     3.1        5.846875   2.13125   ]\n",
      " [5.006      3.418      1.464      0.244     ]\n",
      " [6.23658537 2.85853659 4.80731707 1.62195122]\n",
      " [5.52962963 2.62222222 3.94074074 1.21851852]]\n"
     ]
    }
   ],
   "source": [
    "# Küme merkez noktalarını ayarladık.\n",
    "print(km.cluster_centers_)"
   ]
  },
  {
   "cell_type": "code",
   "execution_count": 13,
   "metadata": {},
   "outputs": [
    {
     "data": {
      "image/png": "[encoded data removed]",
      "text/plain": [
       "<Figure size 432x288 with 1 Axes>"
      ]
     },
     "metadata": {
      "needs_background": "light"
     },
     "output_type": "display_data"
    }
   ],
   "source": [
    "# Grafik şeklinde ekrana basmak için matplotlib kütüphanesini import ettim \n",
    "import matplotlib.pyplot as plt\n",
    "#Sonra kümeleme ve renk verilerini ayarladım\n",
    "\n",
    "plt.scatter(v[predict==0,0],v[predict==0,1],s=50,color='red')\n",
    "plt.scatter(v[predict==1,0],v[predict==1,1],s=50,color='blue')\n",
    "plt.scatter(v[predict==2,0],v[predict==2,1],s=50,color='green')\n",
    "plt.title('K-Means Iris Dataset')\n",
    "plt.show()"
   ]
  },
  {
   "cell_type": "code",
   "execution_count": 14,
   "metadata": {},
   "outputs": [
    {
     "data": {
      "image/png": "[encoded data removed]",
      "text/plain": [
       "<Figure size 432x288 with 1 Axes>"
      ]
     },
     "metadata": {
      "needs_background": "light"
     },
     "output_type": "display_data"
    }
   ],
   "source": [
    "#Sonra kümeleme ve renk verilerini ayarladım\n",
    "\n",
    "plt.scatter(v[predict==0,0],v[predict==0,1],s=50,color='red')\n",
    "plt.scatter(v[predict==1,0],v[predict==1,1],s=50,color='blue')\n",
    "plt.scatter(v[predict==2,0],v[predict==2,1],s=50,color='green')\n",
    "plt.scatter(v[predict==3,0],v[predict==3,2],s=50,color='black')\n",
    "plt.title('K-Means Iris Dataset')\n",
    "plt.show()"
   ]
  },
  {
   "cell_type": "code",
   "execution_count": null,
   "metadata": {},
   "outputs": [],
   "source": []
  },
  {
   "cell_type": "code",
   "execution_count": null,
   "metadata": {},
   "outputs": [],
   "source": []
  },
  {
   "cell_type": "code",
   "execution_count": null,
   "metadata": {},
   "outputs": [],
   "source": []
  }
 ],
 "metadata": {
  "kernelspec": {
   "display_name": "Python 3",
   "language": "python",
   "name": "python3"
  },
  "language_info": {
   "codemirror_mode": {
    "name": "ipython",
    "version": 3
   },
   "file_extension": ".py",
   "mimetype": "text/x-python",
   "name": "python",
   "nbconvert_exporter": "python",
   "pygments_lexer": "ipython3",
   "version": "3.7.6"
  }
 },
 "nbformat": 4,
 "nbformat_minor": 4
}
